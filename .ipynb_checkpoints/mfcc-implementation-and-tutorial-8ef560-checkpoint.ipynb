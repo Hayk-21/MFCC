{
 "cells": [
  {
   "cell_type": "markdown",
   "metadata": {
    "_uuid": "462a26d13ff25773f0e816f55e0355bb4175bbef",
    "pycharm": {
     "name": "#%% md\n"
    }
   },
   "source": [
    "# MFCC theory and implementation\n",
    "## Theory\n",
    "Mel Frequency Cepstral Coefficents (MFCCs) is a way of extracting features from an audio. The MFCC uses the MEL scale to divide the frequency band to sub-bands and then extracts the Cepstral Coefficents using Discrete Cosine Transform (DCT). MEL scale is based on the way humans distinguish between frequencies which makes it very convenient to process sounds.\n",
    "\n",
    "Lets first understand how humans perceive sounds.\n",
    "\n",
    "## Human voice sound perception\n",
    "Adult humans fundamental voice frequency range is between 85Hz to 255Hz (85Hz to 180Hz for male and 165Hz to 255Hz for female). On top of the fundamental frequency there are harmonics of fundamental frequencys. Harmonics are whole multiplications of the fundamental frequency. If for instance the fundamental frequency is 100Hz then its second harmonic will be 200Hz, third harmonic is 300Hz and so on.\n",
    "\n",
    "You can see an example in the image below [1] which shows frequency vs. time of several pronounced words and color represents frequency power at that point (yellow strongest and black weakest):\n",
    "![Speech Spectrogram](https://static.scientificamerican.com/sciam/assets/media/sound/speechsep-audio/speechsep-2-spect.png \"Speech Spectrogram\")\n",
    "\n",
    "Notice the first horizontal yellow line on the bottom of each segment. That is the fundamental frequency and its the strongest. Above that there are harmonics with the same frequncy distance from each other.\n",
    "\n",
    "Humans can hear roughly between 20Hz to 20KHz. The perception of sound is non-linear [2] and you can better distinguish between low frequency sounds than high frequency sounds e.g. humans can clearly hear the difference betwee 100Hz and 200Hz but not between 15kHz and 15.1kHz.\n",
    "\n",
    "You can try in usin a tone generator: http://www.szynalski.com/tone-generator/\n",
    "\n",
    "## MEL scale\n",
    "A MEL scale is a unit of PITCH proposed by Stevens, Volkmann and Newmann in 1937. The MEL scale is a scale of pitches judged by listeners to be equal in distance one from another [3] [4]. Because of how humans perceive sound the MEL scale is a non-lenear scale and the distances between the pitches increeses with frequency.\n",
    "\n",
    "# MFCC implementation [5] [6]\n",
    "## Sample signal\n",
    "First, lets load a sample audio and start working with it:"
   ]
  },
  {
   "cell_type": "code",
   "execution_count": 2,
   "metadata": {},
   "outputs": [
    {
     "name": "stdout",
     "output_type": "stream",
     "text": [
      "Collecting scipy\n",
      "  Downloading scipy-1.8.1-cp310-cp310-win_amd64.whl (36.9 MB)\n",
      "     ---------------------------------------- 36.9/36.9 MB 1.6 MB/s eta 0:00:00\n",
      "Requirement already satisfied: numpy<1.25.0,>=1.17.3 in c:\\users\\sakoy\\appdata\\local\\packages\\pythonsoftwarefoundation.python.3.10_qbz5n2kfra8p0\\localcache\\local-packages\\python310\\site-packages (from scipy) (1.23.1)\n",
      "Installing collected packages: scipy\n",
      "Successfully installed scipy-1.8.1\n"
     ]
    }
   ],
   "source": [
    "!pip install scipy"
   ]
  },
  {
   "cell_type": "code",
   "execution_count": 3,
   "metadata": {
    "_uuid": "600f9d1247883dc7d47e64e488caf1f29db86baa",
    "jupyter": {
     "outputs_hidden": true
    },
    "pycharm": {
     "name": "#%%\n"
    }
   },
   "outputs": [],
   "source": [
    "import os\n",
    "import numpy as np\n",
    "import scipy\n",
    "from scipy.io import wavfile\n",
    "import scipy.fftpack as fft\n",
    "from scipy.signal import get_window\n",
    "import IPython.display as ipd\n",
    "import matplotlib.pyplot as plt\n",
    "\n",
    "%matplotlib inline"
   ]
  },
  {
   "cell_type": "code",
   "execution_count": null,
   "metadata": {
    "_uuid": "0dfbc8495993481e10e943be56520a6cd56f0218",
    "pycharm": {
     "name": "#%%\n"
    }
   },
   "outputs": [],
   "source": [
    "TRAIN_PATH = '../input/audio_train/'\n",
    "ipd.Audio(TRAIN_PATH + \"a439d172.wav\")"
   ]
  },
  {
   "cell_type": "code",
   "execution_count": null,
   "metadata": {
    "_uuid": "5e68fd22941317512a550e6ad11f1764016e7eed",
    "pycharm": {
     "name": "#%%\n"
    },
    "scrolled": true
   },
   "outputs": [],
   "source": [
    "sample_rate, audio = wavfile.read(TRAIN_PATH + \"a439d172.wav\")\n",
    "print(\"Sample rate: {0}Hz\".format(sample_rate))\n",
    "print(\"Audio duration: {0}s\".format(len(audio) / sample_rate))"
   ]
  },
  {
   "cell_type": "markdown",
   "metadata": {
    "_uuid": "28248df2774a2e579d71cf678f071d17bd39b7cb",
    "pycharm": {
     "name": "#%% md\n"
    }
   },
   "source": [
    "Bonus: notice that the sample rate is 44.1kHz which is the standart sampling rate for audio files. This number is not a coincidence. Acording to Nyquist, that sampling rate of 44.1kHz give us band-width of 22.05kHz. The 0Hz to 22.05kHz zone is called the first Nyquist zone, 22.05kHz to 44.1kHz is the second Nyquist zone and so on. If there is a signal in the second Nyquist zone (lets say 22.1kHz) it will alias to the first Nyquist zone (22kHz in our case). We dont want this to happend so we add a low pass filter (LPF). All LPFs has a pass-band, stop-band and transition band. \n",
    "\n",
    "![LPF Example](https://upload.wikimedia.org/wikipedia/commons/6/60/Butterworth_response.svg \"LPF Example\")\n",
    "\n",
    "The sampling frequency of 44.1kHz was chose so that the transition band will be from 20kHz (pass-band) to 22.05kHz (stop-band). It is important to have at least half of the transition band inside the first Nyquist zone because there is stil not enought attenuetion in the filter in this part so there might be aliases from the second Nyquist zone."
   ]
  },
  {
   "cell_type": "code",
   "execution_count": null,
   "metadata": {
    "_uuid": "6c13aa2e69c5cd2b48084d7dce2b00e0f75871e6",
    "collapsed": true,
    "jupyter": {
     "outputs_hidden": true
    },
    "pycharm": {
     "name": "#%%\n"
    }
   },
   "outputs": [],
   "source": [
    "def normalize_audio(audio):\n",
    "    audio = audio / np.max(np.abs(audio))\n",
    "    return audio"
   ]
  },
  {
   "cell_type": "code",
   "execution_count": null,
   "metadata": {
    "_uuid": "9693828e82bafd772fff85dcd71dbf660a2128ac",
    "pycharm": {
     "name": "#%%\n"
    }
   },
   "outputs": [],
   "source": [
    "audio = normalize_audio(audio)\n",
    "plt.figure(figsize=(15,4))\n",
    "plt.plot(np.linspace(0, len(audio) / sample_rate, num=len(audio)), audio)\n",
    "plt.grid(True)"
   ]
  },
  {
   "cell_type": "markdown",
   "metadata": {
    "_uuid": "e94fa032b7e0a5003e7177e70759da3d143fbe83",
    "pycharm": {
     "name": "#%% md\n"
    }
   },
   "source": [
    "There is a lot going on here. It sounds that we should get high and low fundamental frequencies.\n",
    "\n",
    "## Audio Framing\n",
    "Because audio is a non stationary process, the FFT will produce distortions. To overcome this we can assume that the audio is a stationary process for a short periods of time. Because of that we devide the signal into short frames. Each audio frame will be the same size as the FFT. Also we want the frames to overlap. We do that so that the frames will have some correlation between them and because we loose the information on the edges of each frame after applying a window function."
   ]
  },
  {
   "cell_type": "code",
   "execution_count": null,
   "metadata": {
    "_uuid": "c40f0f53be2f4923532b4da8fa5bc3130c1ad13e",
    "collapsed": true,
    "jupyter": {
     "outputs_hidden": true
    },
    "pycharm": {
     "name": "#%%\n"
    }
   },
   "outputs": [],
   "source": [
    "def frame_audio(audio, Frame_size=2048, hop_size=10, sample_rate=44100):\n",
    "    # hop_size in ms\n",
    "    \n",
    "    audio = np.pad(audio, int(Frame_size / 2), mode='reflect')\n",
    "    frame_len = np.round(sample_rate * hop_size / 1000).astype(int)\n",
    "    frame_num = int((len(audio) - Frame_size) / frame_len) + 1\n",
    "    frames = np.zeros((frame_num,Frame_size))\n",
    "    \n",
    "    for n in range(frame_num):\n",
    "        frames[n] = audio[n*frame_len:n*frame_len+Frame_size]\n",
    "    \n",
    "    return frames"
   ]
  },
  {
   "cell_type": "code",
   "execution_count": null,
   "metadata": {
    "_uuid": "d85e14f3f0b7f0423cbb58f26b390a9ce92f7920",
    "pycharm": {
     "name": "#%%\n"
    }
   },
   "outputs": [],
   "source": [
    "hop_size = 15 #ms\n",
    "Frame_size = 2048\n",
    "\n",
    "audio_framed = frame_audio(audio, Frame_size=Frame_size, hop_size=hop_size, sample_rate=sample_rate)\n",
    "print(\"Framed audio shape: {0}\".format(audio_framed.shape))"
   ]
  },
  {
   "cell_type": "markdown",
   "metadata": {
    "_uuid": "1c2fe820f0f489ef4fc5ec29baa0670e69444748",
    "pycharm": {
     "name": "#%% md\n"
    }
   },
   "source": [
    "Now we have framed audio matrix with the size of frame number X FFT size."
   ]
  },
  {
   "cell_type": "code",
   "execution_count": null,
   "metadata": {
    "_uuid": "860a55d20e132a04e0bc825d6967b1c3834d370a",
    "pycharm": {
     "name": "#%%\n"
    }
   },
   "outputs": [],
   "source": [
    "print(\"First frame:\")\n",
    "audio_framed[1]"
   ]
  },
  {
   "cell_type": "code",
   "execution_count": null,
   "metadata": {
    "_uuid": "ffacc9ad30af525ec065ec9665baca493af64889",
    "pycharm": {
     "name": "#%%\n"
    }
   },
   "outputs": [],
   "source": [
    "print(\"Last frame:\")\n",
    "audio_framed[-1]"
   ]
  },
  {
   "cell_type": "markdown",
   "metadata": {
    "_uuid": "98585701d4bb3c87fe9cc25ba6ff996dae3c01cb",
    "pycharm": {
     "name": "#%% md\n"
    }
   },
   "source": [
    "## Convert to frequency domain\n",
    "Now we will convert the audio, which is currently in the time domain, to frequency domain. The FFT assumes the audio to be periodic and continues. By framing the signal we assured the audio to be periodic. To make the audio continues, we apply a window function on every frame. If we wont do that, We will get high frequency distortions. To overcome this, we first need to apply a window function to the framed audio and then perforn FFT. The window assures that both ends of the signal will end close to zero.\n",
    "\n",
    "Choosing the correct window is hard and takes time. For simplicity we will choose the Hanning window. [7]"
   ]
  },
  {
   "cell_type": "code",
   "execution_count": null,
   "metadata": {
    "_uuid": "47534c7e11a9bd3638e447a444675b904bb875c8",
    "pycharm": {
     "name": "#%%\n"
    }
   },
   "outputs": [],
   "source": [
    "window = get_window(\"hann\", Frame_size, fftbins=True)\n",
    "plt.figure(figsize=(15,4))\n",
    "plt.plot(window)\n",
    "plt.grid(True)"
   ]
  },
  {
   "cell_type": "code",
   "execution_count": null,
   "metadata": {
    "_uuid": "ba706661290f58feac29c3fcaeafee3804552077",
    "pycharm": {
     "name": "#%%\n"
    }
   },
   "outputs": [],
   "source": [
    "audio_win = audio_framed * window\n",
    "\n",
    "ind = 69\n",
    "plt.figure(figsize=(15,6))\n",
    "plt.subplot(2, 1, 1)\n",
    "plt.plot(audio_framed[ind])\n",
    "plt.title('Original Frame')\n",
    "plt.grid(True)\n",
    "plt.subplot(2, 1, 2)\n",
    "plt.plot(audio_win[ind])\n",
    "plt.title('Frame After Windowing')\n",
    "plt.grid(True)"
   ]
  },
  {
   "cell_type": "markdown",
   "metadata": {
    "_uuid": "26891a8e507b7b696d9ef7daf5d95ada140eb805",
    "pycharm": {
     "name": "#%% md\n"
    }
   },
   "source": [
    "In the plot above you can see the that both ends of the frame end on different places on the y axis. You can see that the window brought the edges of each frame closer to zero.\n",
    "\n",
    "Now lets perform the FFT. After we do the FFT we only take the the positive part of the spectrum (first half +1)."
   ]
  },
  {
   "cell_type": "code",
   "execution_count": null,
   "metadata": {
    "_uuid": "ff80ef2ff43ecb1b7b99003d1651e122ef0e91be",
    "collapsed": true,
    "jupyter": {
     "outputs_hidden": true
    },
    "pycharm": {
     "name": "#%%\n"
    }
   },
   "outputs": [],
   "source": [
    "audio_winT = np.transpose(audio_win)\n",
    "\n",
    "audio_fft = np.empty((int(1 + Frame_size // 2), audio_winT.shape[1]), dtype=np.complex64, order='F')\n",
    "\n",
    "for n in range(audio_fft.shape[1]):\n",
    "    audio_fft[:, n] = fft.fft(audio_winT[:, n], axis=0)[:audio_fft.shape[0]]\n",
    "\n",
    "audio_fft = np.transpose(audio_fft)"
   ]
  },
  {
   "cell_type": "markdown",
   "metadata": {
    "_uuid": "68918ccff758f90428817f112f1c1f790d870cb5",
    "pycharm": {
     "name": "#%% md\n"
    }
   },
   "source": [
    "## Calculate signal power"
   ]
  },
  {
   "cell_type": "code",
   "execution_count": null,
   "metadata": {
    "_uuid": "e4a39b8616c7c9cea613020f1d72a4af2c9f60da",
    "pycharm": {
     "name": "#%%\n"
    }
   },
   "outputs": [],
   "source": [
    "audio_power = np.square(np.abs(audio_fft))\n",
    "print(audio_power.shape)"
   ]
  },
  {
   "cell_type": "markdown",
   "metadata": {
    "_uuid": "0ac61886f147ea5de8d06c94ecda5dc24467ae7c",
    "pycharm": {
     "name": "#%% md\n"
    }
   },
   "source": [
    "## MEL-spaced filterbank\n",
    "Here we compute the MEL-spaced filterbank and then pass the framed audio through them. That will give us information about the power in each frequency band. The filters can be constructed for any frequency band but for our example we will look on the entire sampled band.\n",
    "\n",
    "What spessial with the MEL-spaced filterbank is the spacing between the filters which grows exponentially with frequency. The filterbank can be made for any frequency band. Here we will compute the filterbank for the entire frequency band."
   ]
  },
  {
   "cell_type": "code",
   "execution_count": null,
   "metadata": {
    "_uuid": "16e3fe5d9c2aa4207a4786f83a37633fe94d8660",
    "pycharm": {
     "name": "#%%\n"
    }
   },
   "outputs": [],
   "source": [
    "freq_min = 0\n",
    "freq_high = sample_rate / 2\n",
    "mel_filter_num = 10\n",
    "\n",
    "print(\"Minimum frequency: {0}\".format(freq_min))\n",
    "print(\"Maximum frequency: {0}\".format(freq_high))"
   ]
  },
  {
   "cell_type": "markdown",
   "metadata": {
    "_uuid": "204e6a498265d66a3ec402fe7dd4897929420fea",
    "pycharm": {
     "name": "#%% md\n"
    }
   },
   "source": [
    "### Compute filter points\n",
    "First we construct filter points that determines the start and stop of the filters. To do that we first convert the two filterbank edges to the MEL space. After that we construct a lineary spaced array between the two MEL frequencies. Then we convert the array to the frequency space and finally we normalize the array to the FFT size and choose the associated FFT values.\n",
    "\n",
    "This process is shown in the picture below:\n",
    "\n",
    "<a href=\"https://ibb.co/kCsp4H\"><img src=\"https://preview.ibb.co/hrFnrx/MEL.png\" alt=\"MEL\" border=\"0\" /></a>"
   ]
  },
  {
   "cell_type": "code",
   "execution_count": null,
   "metadata": {
    "_uuid": "923bcf6c33898bc99068a52236a981d22ad2625d",
    "collapsed": true,
    "jupyter": {
     "outputs_hidden": true
    },
    "pycharm": {
     "name": "#%%\n"
    }
   },
   "outputs": [],
   "source": [
    "def freq_to_mel(freq):\n",
    "    return 2595.0 * np.log10(1.0 + freq / 700.0)\n",
    "\n",
    "def met_to_freq(mels):\n",
    "    return 700.0 * (10.0**(mels / 2595.0) - 1.0)"
   ]
  },
  {
   "cell_type": "code",
   "execution_count": null,
   "metadata": {
    "_uuid": "6c258837e70b0c6a88e32c82cf9d2c31dfed8756",
    "collapsed": true,
    "jupyter": {
     "outputs_hidden": true
    },
    "pycharm": {
     "name": "#%%\n"
    }
   },
   "outputs": [],
   "source": [
    "def get_filter_points(fmin, fmax, mel_filter_num, Frame_size, sample_rate=44100):\n",
    "    fmin_mel = freq_to_mel(fmin)\n",
    "    fmax_mel = freq_to_mel(fmax)\n",
    "    \n",
    "    print(\"MEL min: {0}\".format(fmin_mel))\n",
    "    print(\"MEL max: {0}\".format(fmax_mel))\n",
    "    \n",
    "    mels = np.linspace(fmin_mel, fmax_mel, num=mel_filter_num+2)\n",
    "    freqs = met_to_freq(mels)\n",
    "    \n",
    "    return np.floor((Frame_size + 1) / sample_rate * freqs).astype(int), freqs"
   ]
  },
  {
   "cell_type": "code",
   "execution_count": null,
   "metadata": {
    "_uuid": "b5a7fcd45faacf93605e2f438ba881047eb2144e",
    "pycharm": {
     "name": "#%%\n"
    }
   },
   "outputs": [],
   "source": [
    "filter_points, mel_freqs = get_filter_points(freq_min, freq_high, mel_filter_num, Frame_size, sample_rate=44100)\n",
    "filter_points"
   ]
  },
  {
   "cell_type": "markdown",
   "metadata": {
    "_uuid": "f3585fd874c338aa0f52552e0f48d9137a9ee163",
    "pycharm": {
     "name": "#%% md\n"
    }
   },
   "source": [
    "### Construct the filterbank\n",
    "After we have the filter points, we construct the filters."
   ]
  },
  {
   "cell_type": "code",
   "execution_count": null,
   "metadata": {
    "_uuid": "904dd238008a4eb82a350b9fed582b751c65654f",
    "collapsed": true,
    "jupyter": {
     "outputs_hidden": true
    },
    "pycharm": {
     "name": "#%%\n"
    }
   },
   "outputs": [],
   "source": [
    "def get_filters(filter_points, Frame_size):\n",
    "    filters = np.zeros((len(filter_points)-2,int(Frame_size/2+1)))\n",
    "    \n",
    "    for n in range(len(filter_points)-2):\n",
    "        filters[n, filter_points[n] : filter_points[n + 1]] = np.linspace(0, 1, filter_points[n + 1] - filter_points[n])\n",
    "        filters[n, filter_points[n + 1] : filter_points[n + 2]] = np.linspace(1, 0, filter_points[n + 2] - filter_points[n + 1])\n",
    "    \n",
    "    return filters"
   ]
  },
  {
   "cell_type": "code",
   "execution_count": null,
   "metadata": {
    "_uuid": "ec545047665b553c980d25c74e09861df9aa94e5",
    "pycharm": {
     "name": "#%%\n"
    },
    "scrolled": true
   },
   "outputs": [],
   "source": [
    "filters = get_filters(filter_points, Frame_size)\n",
    "\n",
    "plt.figure(figsize=(15,4))\n",
    "for n in range(filters.shape[0]):\n",
    "    plt.plot(filters[n])"
   ]
  },
  {
   "cell_type": "markdown",
   "metadata": {
    "_uuid": "51d1ddf8cc20c534b50d3e7dd9fff74094e04b38",
    "pycharm": {
     "name": "#%% md\n"
    }
   },
   "source": [
    "Next we divide the triangular MEL weights by the width of the MEL band (area normalization). If we wont normalize the filters, we will see the noise increase with frequency because of the filter width."
   ]
  },
  {
   "cell_type": "code",
   "execution_count": null,
   "metadata": {
    "_uuid": "e84d8c18f9df476b35313d920adf610913967941",
    "collapsed": true,
    "jupyter": {
     "outputs_hidden": true
    },
    "pycharm": {
     "name": "#%%\n"
    }
   },
   "outputs": [],
   "source": [
    "# taken from the librosa library\n",
    "enorm = 2.0 / (mel_freqs[2:mel_filter_num+2] - mel_freqs[:mel_filter_num])\n",
    "filters *= enorm[:, np.newaxis]"
   ]
  },
  {
   "cell_type": "code",
   "execution_count": null,
   "metadata": {
    "_uuid": "1d4af49cae387b6ee2fb6165946e9b72a88a847c",
    "pycharm": {
     "name": "#%%\n"
    }
   },
   "outputs": [],
   "source": [
    "plt.figure(figsize=(15,4))\n",
    "for n in range(filters.shape[0]):\n",
    "    plt.plot(filters[n])"
   ]
  },
  {
   "cell_type": "markdown",
   "metadata": {
    "_uuid": "b2459afe24f27349434ae429c4f996442613ec18",
    "pycharm": {
     "name": "#%% md\n"
    }
   },
   "source": [
    "## Filter the signal"
   ]
  },
  {
   "cell_type": "code",
   "execution_count": null,
   "metadata": {
    "_uuid": "977f1e8ff6aee33644aa419a4130191ac79e3005",
    "pycharm": {
     "name": "#%%\n"
    }
   },
   "outputs": [],
   "source": [
    "audio_filtered = np.dot(filters, np.transpose(audio_power))\n",
    "audio_log = 10.0 * np.log10(audio_filtered)\n",
    "audio_log.shape"
   ]
  },
  {
   "cell_type": "markdown",
   "metadata": {
    "_uuid": "e5927662e8f9248c1bf8c0668af5d306ea31d620",
    "pycharm": {
     "name": "#%% md\n"
    }
   },
   "source": [
    "Now we have a matrix represemting the audio power in all 10 filters in different time frames.\n",
    "## Generate the Cepstral Coefficents\n",
    "The final step in generating the MFCC is to use the Discrete Cosine Transform (DCT). We will use the DCT-III. This type of DCT will extract high frequency and low frequency changes in the the signal [8] [9]."
   ]
  },
  {
   "cell_type": "code",
   "execution_count": null,
   "metadata": {
    "_uuid": "e4815ea74fad45820bbcd2a3417296235277d915",
    "collapsed": true,
    "jupyter": {
     "outputs_hidden": true
    },
    "pycharm": {
     "name": "#%%\n"
    }
   },
   "outputs": [],
   "source": [
    "def dct(dct_filter_num, filter_len):\n",
    "    basis = np.empty((dct_filter_num,filter_len))\n",
    "    basis[0, :] = 1.0 / np.sqrt(filter_len)\n",
    "    \n",
    "    samples = np.arange(1, 2 * filter_len, 2) * np.pi / (2.0 * filter_len)\n",
    "\n",
    "    for i in range(1, dct_filter_num):\n",
    "        basis[i, :] = np.cos(i * samples) * np.sqrt(2.0 / filter_len)\n",
    "        \n",
    "    return basis"
   ]
  },
  {
   "cell_type": "code",
   "execution_count": null,
   "metadata": {
    "_uuid": "b922616cfc75cf76a8e42570e09397726ce8c244",
    "pycharm": {
     "name": "#%%\n"
    }
   },
   "outputs": [],
   "source": [
    "dct_filter_num = 40\n",
    "\n",
    "dct_filters = dct(dct_filter_num, mel_filter_num)\n",
    "\n",
    "cepstral_coefficents = np.dot(dct_filters, audio_log)\n",
    "cepstral_coefficents.shape"
   ]
  },
  {
   "cell_type": "markdown",
   "metadata": {
    "_uuid": "68fd684fba3c5fa004997108d3ed24bc8d1e4e45",
    "pycharm": {
     "name": "#%% md\n"
    }
   },
   "source": [
    "## Reviewing Cepstral coefficents"
   ]
  },
  {
   "cell_type": "code",
   "execution_count": null,
   "metadata": {
    "_uuid": "9e8363263103be23b810783de1b6bc33de9f361b",
    "pycharm": {
     "name": "#%%\n"
    }
   },
   "outputs": [],
   "source": [
    "cepstral_coefficents[:, 0]"
   ]
  },
  {
   "cell_type": "code",
   "execution_count": null,
   "metadata": {
    "_uuid": "6a302215afb0e64c65b6f2b87f91c6941a690cb9",
    "pycharm": {
     "name": "#%%\n"
    }
   },
   "outputs": [],
   "source": [
    "plt.figure(figsize=(15,5))\n",
    "plt.plot(np.linspace(0, len(audio) / sample_rate, num=len(audio)), audio)\n",
    "plt.imshow(cepstral_coefficents, aspect='auto', origin='lower');"
   ]
  },
  {
   "cell_type": "markdown",
   "metadata": {
    "_uuid": "02441af327f4a298f6e4ef6b35d6d6694f0cbc32",
    "pycharm": {
     "name": "#%% md\n"
    }
   },
   "source": [
    "# Conclution\n",
    "The MFCC is a good algorithm to extract high frequency and low frequency information. There are many parts that can be changed depending on the application. One thing that we might want to check is how the power is scattered across frequency band and choosing the filter amount based on that.\n",
    "\n",
    "# Bibliography\n",
    "[1] https://en.wikipedia.org/wiki/Voice_frequency\n",
    "\n",
    "[2] https://en.wikipedia.org/wiki/Hearing_range\n",
    "\n",
    "[3] https://www.sfu.ca/sonic-studio/handbook/Mel.html\n",
    "\n",
    "[4] https://en.wikipedia.org/wiki/Mel_scale\n",
    "\n",
    "[5] http://practicalcryptography.com/miscellaneous/machine-learning/guide-mel-frequency-cepstral-coefficients-mfccs/\n",
    "\n",
    "[6] https://librosa.github.io/librosa/\n",
    "\n",
    "[7] https://en.wikipedia.org/wiki/Window_function#Hamming_window\n",
    "\n",
    "[8] https://www.youtube.com/watch?v=Q2aEzeMDHMA\n",
    "\n",
    "[9] https://en.wikipedia.org/wiki/Discrete_cosine_transform"
   ]
  }
 ],
 "metadata": {
  "kernelspec": {
   "display_name": "Python 3 (ipykernel)",
   "language": "python",
   "name": "python3"
  },
  "language_info": {
   "codemirror_mode": {
    "name": "ipython",
    "version": 3
   },
   "file_extension": ".py",
   "mimetype": "text/x-python",
   "name": "python",
   "nbconvert_exporter": "python",
   "pygments_lexer": "ipython3",
   "version": "3.10.5"
  }
 },
 "nbformat": 4,
 "nbformat_minor": 4
}
